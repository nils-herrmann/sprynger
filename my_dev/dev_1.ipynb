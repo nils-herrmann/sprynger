{
 "cells": [
  {
   "cell_type": "code",
   "execution_count": 1,
   "metadata": {},
   "outputs": [],
   "source": []
  },
  {
   "cell_type": "markdown",
   "metadata": {},
   "source": [
    "## Metadata"
   ]
  },
  {
   "cell_type": "code",
   "execution_count": 11,
   "metadata": {},
   "outputs": [],
   "source": [
    "from sprynger import Metadata"
   ]
  },
  {
   "cell_type": "code",
   "execution_count": 13,
   "metadata": {},
   "outputs": [
    {
     "data": {
      "text/plain": [
       "[MetadataRecord(contentType='Article', identifier='doi:10.1007/s10288-023-00561-5', language='en', url='http://dx.doi.org/10.1007/s10288-023-00561-5', url_format='', url_platform='', title='Preference learning and multiple criteria decision aiding: differences, commonalities, and synergies—part II', creators=[MetadataCreator(creator='Hüllermeier, Eyke', ORCID='0000-0002-9944-4108'), MetadataCreator(creator='Słowiński, Roman', ORCID='0000-0002-5200-7795')], publicationName='4OR', openaccess=True, doi='10.1007/s10288-023-00561-5', publisher='Springer', publicationDate='2024-09-01', publicationType='Journal', issn='1614-2411', volume=22, number=3, genre=['OriginalPaper', 'Invited Survey'], startingPage=313, endingPage=349, journalId=10288, copyright='©2024 The Author(s)', abstract='This article elaborates on the connection between multiple criteria decision aiding (MCDA) and preference learning (PL), two research fields with different roots and developed in different communities. It complements the first part of the paper, in which we started with a review of MCDA. In this part, a similar review will be given for PL, followed by a systematic comparison of both methodologies, as well as an overview of existing work on combining PL and MCDA. Our main goal is to stimulate further research at the junction of these two methodologies.', subjects=['Business and Management', 'Operations Research/Decision Theory', 'Optimization', 'Industrial and Production Engineering'])]"
      ]
     },
     "execution_count": 13,
     "metadata": {},
     "output_type": "execute_result"
    }
   ],
   "source": [
    "article_metadata = Metadata('10.1007/s10288-023-00561-5')\n",
    "article_metadata.records"
   ]
  },
  {
   "cell_type": "code",
   "execution_count": 31,
   "metadata": {},
   "outputs": [
    {
     "data": {
      "text/html": [
       "<div>\n",
       "<style scoped>\n",
       "    .dataframe tbody tr th:only-of-type {\n",
       "        vertical-align: middle;\n",
       "    }\n",
       "\n",
       "    .dataframe tbody tr th {\n",
       "        vertical-align: top;\n",
       "    }\n",
       "\n",
       "    .dataframe thead th {\n",
       "        text-align: right;\n",
       "    }\n",
       "</style>\n",
       "<table border=\"1\" class=\"dataframe\">\n",
       "  <thead>\n",
       "    <tr style=\"text-align: right;\">\n",
       "      <th></th>\n",
       "      <th>title</th>\n",
       "      <th>creators</th>\n",
       "      <th>abstract</th>\n",
       "      <th>subjects</th>\n",
       "    </tr>\n",
       "  </thead>\n",
       "  <tbody>\n",
       "    <tr>\n",
       "      <th>0</th>\n",
       "      <td>Autonomous Vehicles and Autonomous Driving in ...</td>\n",
       "      <td>[(Flämig, Heike, None)]</td>\n",
       "      <td>The degree of vehicle automation is continuous...</td>\n",
       "      <td>[Engineering, Automotive Engineering, Engineer...</td>\n",
       "    </tr>\n",
       "    <tr>\n",
       "      <th>1</th>\n",
       "      <td>Effects of Autonomous Driving on the Vehicle C...</td>\n",
       "      <td>[(Winner, Hermann, None), (Wachenfeld, Walther...</td>\n",
       "      <td>Since Carl Benz invented the automobile in 188...</td>\n",
       "      <td>[Engineering, Automotive Engineering, Engineer...</td>\n",
       "    </tr>\n",
       "    <tr>\n",
       "      <th>2</th>\n",
       "      <td>Fundamental and Special Legal Questions for Au...</td>\n",
       "      <td>[(Gasser, Tom Michael, None)]</td>\n",
       "      <td>The “Autonomous driving on the roads of the fu...</td>\n",
       "      <td>[Engineering, Automotive Engineering, Engineer...</td>\n",
       "    </tr>\n",
       "  </tbody>\n",
       "</table>\n",
       "</div>"
      ],
      "text/plain": [
       "                                               title  \\\n",
       "0  Autonomous Vehicles and Autonomous Driving in ...   \n",
       "1  Effects of Autonomous Driving on the Vehicle C...   \n",
       "2  Fundamental and Special Legal Questions for Au...   \n",
       "\n",
       "                                            creators  \\\n",
       "0                            [(Flämig, Heike, None)]   \n",
       "1  [(Winner, Hermann, None), (Wachenfeld, Walther...   \n",
       "2                      [(Gasser, Tom Michael, None)]   \n",
       "\n",
       "                                            abstract  \\\n",
       "0  The degree of vehicle automation is continuous...   \n",
       "1  Since Carl Benz invented the automobile in 188...   \n",
       "2  The “Autonomous driving on the roads of the fu...   \n",
       "\n",
       "                                            subjects  \n",
       "0  [Engineering, Automotive Engineering, Engineer...  \n",
       "1  [Engineering, Automotive Engineering, Engineer...  \n",
       "2  [Engineering, Automotive Engineering, Engineer...  "
      ]
     },
     "execution_count": 31,
     "metadata": {},
     "output_type": "execute_result"
    }
   ],
   "source": [
    "book_metadata = Metadata('978-3-662-48847-8', start=1, max_results=3)\n",
    "book_metadata.records_df[['title', 'language' ,'creators', 'abstract', 'subjects']]"
   ]
  },
  {
   "cell_type": "code",
   "execution_count": 35,
   "metadata": {},
   "outputs": [
    {
     "data": {
      "text/html": [
       "<div>\n",
       "<style scoped>\n",
       "    .dataframe tbody tr th:only-of-type {\n",
       "        vertical-align: middle;\n",
       "    }\n",
       "\n",
       "    .dataframe tbody tr th {\n",
       "        vertical-align: top;\n",
       "    }\n",
       "\n",
       "    .dataframe thead th {\n",
       "        text-align: right;\n",
       "    }\n",
       "</style>\n",
       "<table border=\"1\" class=\"dataframe\">\n",
       "  <thead>\n",
       "    <tr style=\"text-align: right;\">\n",
       "      <th></th>\n",
       "      <th>facet</th>\n",
       "      <th>value</th>\n",
       "      <th>count</th>\n",
       "    </tr>\n",
       "  </thead>\n",
       "  <tbody>\n",
       "    <tr>\n",
       "      <th>6</th>\n",
       "      <td>year</td>\n",
       "      <td>2016</td>\n",
       "      <td>32</td>\n",
       "    </tr>\n",
       "    <tr>\n",
       "      <th>7</th>\n",
       "      <td>country</td>\n",
       "      <td>Germany</td>\n",
       "      <td>24</td>\n",
       "    </tr>\n",
       "    <tr>\n",
       "      <th>8</th>\n",
       "      <td>country</td>\n",
       "      <td>United States</td>\n",
       "      <td>8</td>\n",
       "    </tr>\n",
       "    <tr>\n",
       "      <th>9</th>\n",
       "      <td>country</td>\n",
       "      <td>France</td>\n",
       "      <td>1</td>\n",
       "    </tr>\n",
       "    <tr>\n",
       "      <th>10</th>\n",
       "      <td>type</td>\n",
       "      <td>Book</td>\n",
       "      <td>32</td>\n",
       "    </tr>\n",
       "  </tbody>\n",
       "</table>\n",
       "</div>"
      ],
      "text/plain": [
       "      facet          value count\n",
       "6      year           2016    32\n",
       "7   country        Germany    24\n",
       "8   country  United States     8\n",
       "9   country         France     1\n",
       "10     type           Book    32"
      ]
     },
     "execution_count": 35,
     "metadata": {},
     "output_type": "execute_result"
    }
   ],
   "source": [
    "book_metadata.facets_df.tail(5)"
   ]
  }
 ],
 "metadata": {
  "kernelspec": {
   "display_name": "sprynger",
   "language": "python",
   "name": "python3"
  },
  "language_info": {
   "codemirror_mode": {
    "name": "ipython",
    "version": 3
   },
   "file_extension": ".py",
   "mimetype": "text/x-python",
   "name": "python",
   "nbconvert_exporter": "python",
   "pygments_lexer": "ipython3",
   "version": "3.12.5"
  }
 },
 "nbformat": 4,
 "nbformat_minor": 2
}
